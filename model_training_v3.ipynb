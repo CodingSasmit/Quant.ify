{
 "cells": [
  {
   "cell_type": "code",
   "execution_count": 13,
   "metadata": {
    "collapsed": true
   },
   "outputs": [],
   "source": [
    "import oandapyV20\n",
    "import oandapyV20.endpoints.instruments as instruments\n",
    "from oandapyV20.contrib.factories import InstrumentsCandlesFactory\n",
    "import pandas as pd\n",
    "import numpy as np\n",
    "from functions import get_data, make_model\n",
    "import pickle\n",
    "import datetime\n",
    "from datetime import datetime, timedelta\n",
    "import oandapyV20.endpoints.instruments as instruments\n",
    "client = oandapyV20.API(access_token='199d815eb1f94c176a86dd3d5cc991a5-5e6ff7a15c524bf65fc0af5ae9a11972')"
   ]
  },
  {
   "cell_type": "code",
   "execution_count": 3,
   "outputs": [],
   "source": [
    "instrument = \"EUR_USD\"\n",
    "params = {\n",
    "    \"from\": \"2020-01-20T00:00:00Z\",\n",
    "    \"to\": \"2020-10-31T00:00:00Z\",\n",
    "    \"granularity\": \"D\",\n",
    "    \"count\": 5000,\n",
    "}\n",
    "directory = 'training/v3/_1/'\n",
    "\n",
    "get_data(instrument, params, \"csv/daily_candles.csv\", client)"
   ],
   "metadata": {
    "collapsed": false,
    "pycharm": {
     "name": "#%%\n"
    }
   }
  },
  {
   "cell_type": "code",
   "execution_count": 3,
   "outputs": [],
   "source": [
    "params['from'] = \"2020-10-23T16:00:00Z\"\n",
    "params['granularity'] = 'M15'\n",
    "get_data(instrument, params, 'csv/five_min_candles.csv', client)"
   ],
   "metadata": {
    "collapsed": false,
    "pycharm": {
     "name": "#%%\n"
    }
   }
  },
  {
   "cell_type": "code",
   "execution_count": 4,
   "outputs": [],
   "source": [
    "def cci(df, period=20):\n",
    "    df['TP'] = (df['high']+df['low']+df['close'])/3\n",
    "    df['TP_SMA']=0.0\n",
    "    df['CCI']=0.0\n",
    "    for i in range(period, len(df)):\n",
    "        df.loc[i, 'TP_SMA'] = np.mean(df.loc[i-period:i, 'TP'])\n",
    "        mean_deviation = np.mean(np.abs(df.loc[i, 'TP_SMA'] - df.loc[i-period:i, 'TP']))\n",
    "        df.loc[i, 'CCI'] = (df.loc[i, 'TP'] - df.loc[i, 'TP_SMA'])/(1.5 * mean_deviation)\n",
    "\n",
    "def stochastic(df, period=14): # same as %K\n",
    "    df['%K'] = 0.0\n",
    "    for i in range(period, len(df)):\n",
    "        high = np.max(df.loc[i-period:i, 'high'])\n",
    "        low = np.min(df.loc[i-period:i, 'low'])\n",
    "        close = df.loc[i, 'close']\n",
    "        df.loc[i, '%K'] = (close-low)/(high-low)\n",
    "def rsi(df, period=14):\n",
    "    df['RSI'], df['mean_gain'], df['mean_loss'] = 0.0, 0.0, 0.0\n",
    "    gain, loss = 0, 0\n",
    "    for j in range(0, period):\n",
    "        change = df.loc[j+1, 'close']/df.loc[j, 'close']\n",
    "        if change>=1:\n",
    "            gain += change-1\n",
    "        else:\n",
    "            loss += 1-change\n",
    "    df.loc[period, 'mean_gain'] = gain/period\n",
    "    df.loc[period, 'mean_loss'] = loss/period\n",
    "    RS = gain/loss\n",
    "    df.loc[period, 'RSI'] = 1 - 1/(1+RS)\n",
    "    for i in range(period+1, len(df)):\n",
    "        gain, loss = 0, 0\n",
    "        change = df.loc[i, 'close']/df.loc[i-1, 'close']\n",
    "        if change>=1:\n",
    "            gain += change-1\n",
    "        else:\n",
    "            loss += 1-change\n",
    "        df.loc[i, 'mean_gain'] = (df.loc[i-1, 'mean_gain']*13 + gain)/period\n",
    "        df.loc[i, 'mean_loss'] = (df.loc[i-1, 'mean_loss']*13 + loss)/period\n",
    "        RS = df.loc[i, 'mean_gain']/df.loc[i, 'mean_loss']\n",
    "        df.loc[i, 'RSI'] = 1 - 1/(1+RS)\n",
    "def ema(df, period):\n",
    "    s = 'ema-{}'.format(period)\n",
    "    df[s]=0.0\n",
    "    mean = np.mean(df.loc[:period, 'close'])\n",
    "    multiplier = 2/(1+period)\n",
    "    df.loc[period, s] = df.loc[period, 'close']*multiplier + mean*(1-multiplier)\n",
    "    for i in range(period+1, len(df)):\n",
    "        df.loc[i, s] = df.loc[i, 'close']*multiplier + df.loc[i-1, s]*(1-multiplier)\n",
    "\n",
    "def atr(df, period=6):\n",
    "    df['ATR']=0.0\n",
    "    df['TR']=0.0\n",
    "    for i in range(1, len(df)):\n",
    "        h, l, c = df.loc[i, 'high'], df.loc[i, 'low'], df.loc[i-1, 'close']\n",
    "        df.loc[i, 'TR'] = np.max([h-l, abs(h-c), abs(l-c)])\n",
    "    for i in range(period, len(df)):\n",
    "        df.loc[i, 'ATR'] = np.mean(df.loc[i-period+1:i+1, 'TR'])\n",
    "def add_indicators(df):\n",
    "    cci(df)\n",
    "    stochastic(df)\n",
    "    rsi(df)\n",
    "    ema(df, 5)\n",
    "    ema(df, 10)\n",
    "    ema(df, 20)\n",
    "    atr(df)"
   ],
   "metadata": {
    "collapsed": false,
    "pycharm": {
     "name": "#%%\n"
    }
   }
  },
  {
   "cell_type": "code",
   "execution_count": 31,
   "outputs": [],
   "source": [
    "daily = pd.read_csv(\"csv/daily_candles.csv\")\n",
    "fifteen = pd.read_csv(\"csv/five_min_candles.csv\")\n",
    "daily[['open', 'high', 'low', 'close', 'volume', 'range', 'change']] = daily[['open', 'high', 'low', 'close', 'volume', 'range', 'change']].astype(np.float64)\n",
    "fifteen[['open', 'high', 'low', 'close', 'volume', 'range', 'change']] = fifteen[['open', 'high', 'low', 'close', 'volume', 'range', 'change']].astype(np.float64)\n",
    "\n",
    "add_indicators(daily), add_indicators(fifteen)\n",
    "daily = daily[20:200]\n",
    "future = fifteen[308: 348]\n",
    "future = future.reset_index(drop=True)\n",
    "future = future[['open', 'high', 'low', 'close', 'volume', 'range', 'change']]\n",
    "fifteen = fifteen[20:308]"
   ],
   "metadata": {
    "collapsed": false,
    "pycharm": {
     "name": "#%%\n"
    }
   }
  },
  {
   "cell_type": "code",
   "execution_count": 29,
   "outputs": [
    {
     "data": {
      "text/plain": "                   time     open     high      low    close  volume    range  \\\n35  2020-10-29T05:45:00  1.17518  1.17551  1.17514  1.17550   422.0  0.00037   \n36  2020-10-29T06:00:00  1.17548  1.17552  1.17509  1.17534   711.0  0.00043   \n37  2020-10-29T06:15:00  1.17533  1.17572  1.17529  1.17564   618.0  0.00043   \n38  2020-10-29T06:30:00  1.17562  1.17576  1.17538  1.17540   492.0  0.00038   \n39  2020-10-29T06:45:00  1.17540  1.17571  1.17540  1.17548   476.0  0.00031   \n\n     change  \n35  0.00032  \n36 -0.00014  \n37  0.00031  \n38 -0.00022  \n39  0.00008  ",
      "text/html": "<div>\n<style scoped>\n    .dataframe tbody tr th:only-of-type {\n        vertical-align: middle;\n    }\n\n    .dataframe tbody tr th {\n        vertical-align: top;\n    }\n\n    .dataframe thead th {\n        text-align: right;\n    }\n</style>\n<table border=\"1\" class=\"dataframe\">\n  <thead>\n    <tr style=\"text-align: right;\">\n      <th></th>\n      <th>time</th>\n      <th>open</th>\n      <th>high</th>\n      <th>low</th>\n      <th>close</th>\n      <th>volume</th>\n      <th>range</th>\n      <th>change</th>\n    </tr>\n  </thead>\n  <tbody>\n    <tr>\n      <th>35</th>\n      <td>2020-10-29T05:45:00</td>\n      <td>1.17518</td>\n      <td>1.17551</td>\n      <td>1.17514</td>\n      <td>1.17550</td>\n      <td>422.0</td>\n      <td>0.00037</td>\n      <td>0.00032</td>\n    </tr>\n    <tr>\n      <th>36</th>\n      <td>2020-10-29T06:00:00</td>\n      <td>1.17548</td>\n      <td>1.17552</td>\n      <td>1.17509</td>\n      <td>1.17534</td>\n      <td>711.0</td>\n      <td>0.00043</td>\n      <td>-0.00014</td>\n    </tr>\n    <tr>\n      <th>37</th>\n      <td>2020-10-29T06:15:00</td>\n      <td>1.17533</td>\n      <td>1.17572</td>\n      <td>1.17529</td>\n      <td>1.17564</td>\n      <td>618.0</td>\n      <td>0.00043</td>\n      <td>0.00031</td>\n    </tr>\n    <tr>\n      <th>38</th>\n      <td>2020-10-29T06:30:00</td>\n      <td>1.17562</td>\n      <td>1.17576</td>\n      <td>1.17538</td>\n      <td>1.17540</td>\n      <td>492.0</td>\n      <td>0.00038</td>\n      <td>-0.00022</td>\n    </tr>\n    <tr>\n      <th>39</th>\n      <td>2020-10-29T06:45:00</td>\n      <td>1.17540</td>\n      <td>1.17571</td>\n      <td>1.17540</td>\n      <td>1.17548</td>\n      <td>476.0</td>\n      <td>0.00031</td>\n      <td>0.00008</td>\n    </tr>\n  </tbody>\n</table>\n</div>"
     },
     "execution_count": 29,
     "metadata": {},
     "output_type": "execute_result"
    }
   ],
   "source": [
    "future.tail()"
   ],
   "metadata": {
    "collapsed": false,
    "pycharm": {
     "name": "#%%\n"
    }
   }
  },
  {
   "cell_type": "code",
   "execution_count": 14,
   "outputs": [
    {
     "name": "stdout",
     "output_type": "stream",
     "text": [
      "[{'o': '1.20892', 'h': '1.20938', 'l': '1.20856', 'c': '1.20935'}]\n",
      "[{'o': '1.20892', 'h': '1.20938', 'l': '1.20856', 'c': '1.20935'}]\n"
     ]
    }
   ],
   "source": [
    "import json\n",
    "params = {\n",
    "    \"from\": \"2021-02-12T14:30:00Z\",\n",
    "    \"to\": \"2021-02-12T14:35:00Z\",\n",
    "    \"granularity\": \"M15\",\n",
    "    'smooth': \"True\"\n",
    "}\n",
    "r = instruments.InstrumentsCandles(instrument, params)\n",
    "response = client.request(r)\n",
    "c = [response['candles'][i]['mid'] for i in range(len(response['candles']))]\n",
    "print(c)\n",
    "\n",
    "params['to'] = \"2021-02-12T14:40:00Z\"\n",
    "r = instruments.InstrumentsCandles(instrument, params)\n",
    "response = client.request(r)\n",
    "c = [response['candles'][i]['mid'] for i in range(len(response['candles']))]\n",
    "print(c)"
   ],
   "metadata": {
    "collapsed": false,
    "pycharm": {
     "name": "#%%\n"
    }
   }
  },
  {
   "cell_type": "code",
   "execution_count": 30,
   "outputs": [],
   "source": [
    "x, y = [], []\n",
    "format = \"%Y-%m-%dT%H:%M:%SZ\"\n",
    "loss, gain = 10, 30\n",
    "price_scaling = ['open', 'high', 'low', 'close', 'TP', 'TP_SMA', 'ema-5', 'ema-10', 'ema-20']\n",
    "thousand_scaling = ['range', 'change', 'ATR']\n",
    "training_features = ['open', 'high', 'low', 'close', 'volume', 'range', 'change', 'TP', 'TP_SMA', 'CCI', '%K', 'RSI', 'ema-5', 'ema-10', 'ema-20', 'ATR']\n",
    "time = datetime(year=2020, month=10, day=28, hour=21, minute=0, second=0)\n",
    "time2 = datetime(year=2020, month=10, day=29, hour=6, minute=45, second=0)\n",
    "mins = 15\n",
    "min_delta = timedelta(minutes=1)\n",
    "fif_delta = timedelta(minutes=15)\n",
    "twoday_delta = timedelta(days=2)"
   ],
   "metadata": {
    "collapsed": false,
    "pycharm": {
     "name": "#%%\n"
    }
   }
  },
  {
   "cell_type": "code",
   "execution_count": null,
   "outputs": [],
   "source": [
    "def market_closed(t):\n",
    "    if (t.weekday()==4 and t.hour>=21) or (t.weekday()==5) or (t.weekday()==6 and t.hour<22):\n",
    "        t = t+twoday_delta\n",
    "def data_batch(params):\n",
    "    r = instruments.InstrumentsCandles(instrument, params)\n",
    "    response = client.request(r)\n",
    "    new = []\n",
    "    for i in range(len(response['candles'])):\n",
    "        c = response['candles'][i]['mid']\n",
    "        new.append(\n",
    "            {'open': float(c['o']),\n",
    "           'high': float(c['h']),\n",
    "           'low': float(c['l']),\n",
    "           'close': float(c['c']),\n",
    "           'range': float(c['h'])-float(c['l']),\n",
    "           'change': float(c['c'])-float(c['o'])})\n",
    "    return new\n",
    "\n",
    "def update_data():\n",
    "    global time2, mins, future, time\n",
    "    if mins==15:\n",
    "        fifteen.drop(fifteen.index[0], inplace=True)\n",
    "        mins=0\n",
    "        while True:\n",
    "            mins += 1\n",
    "            params = {\n",
    "                \"from\": time.strftime(format),\n",
    "                \"count\": (time+min_delta).strftime(format),\n",
    "                \"granularity\": \"M1\",\n",
    "            }\n",
    "            new = data_batch(params)\n",
    "            time = time+min_delta\n",
    "            market_closed(time)\n",
    "            if len(new)>0:\n",
    "                fifteen.append(new[0], ignore_index=True)\n",
    "                break\n",
    "        # update time2\n",
    "        time2 = time2+fif_delta\n",
    "        market_closed(time2)\n",
    "\n",
    "        # add new 15 min candle to end of future\n",
    "        params = {\n",
    "            \"from\": time2.strftime(format),\n",
    "            \"count\": 1,\n",
    "            \"granularity\": \"M15\",\n",
    "        }\n",
    "        new = data_batch(params)\n",
    "        future.append(new[0], ignore_index=True)\n",
    "\n",
    "        # remove first 15 min candle and replace with about 14 minute candles\n",
    "        future.drop(future.index[0], inplace=True)\n",
    "        params = {\n",
    "            \"from\": (time+min_delta).strftime(format),\n",
    "            \"count\": 15-mins,\n",
    "            \"granularity\": \"M1\",\n",
    "        }\n",
    "        new = data_batch(params)\n",
    "        df = pd.DataFrame()\n",
    "        for i in new:\n",
    "            df.append(i, ignore_index=True)\n",
    "        future = pd.concat((df, future), axis=0, ignore_index=True)\n",
    "    else:\n",
    "\n"
   ],
   "metadata": {
    "collapsed": false,
    "pycharm": {
     "name": "#%%\n"
    }
   }
  },
  {
   "cell_type": "code",
   "execution_count": null,
   "outputs": [],
   "source": [
    "def add_training_data():\n",
    "    d, f = daily[training_features].copy(), fifteen[training_features].copy()\n",
    "    d[price_scaling] = (d[price_scaling]-1.15)*5\n",
    "    f[price_scaling] = (f[price_scaling]-1.15)*5\n",
    "    f[thousand_scaling] *= 10e3\n",
    "    d[thousand_scaling] *= 10e3\n",
    "    d['range', 'change'] /= 10\n",
    "    d['volume'] /= 10e5\n",
    "    f['volume'] /= 10e3\n",
    "    x.append(np.concatenate((d, f), axis=0))\n",
    "    close = f.loc[-1, 'close']\n",
    "    up = True\n",
    "    down = True\n",
    "    added = False\n",
    "    for j in range(len(future)):\n",
    "        if down and future.loc[j, 'high']-close>=0.0001*loss*5:\n",
    "            down = False\n",
    "        elif up and future.loc[j, 'low']-close<=-0.0001*loss*5:\n",
    "            up = False\n",
    "        if future.loc[j, 'high']-close>=0.0001*gain*5 and up:\n",
    "            y.append(np.array([0, 0, 1]))\n",
    "            added = True\n",
    "            break\n",
    "        if future.loc[j, 'low']-close<=-0.0001*gain*5 and down:\n",
    "            y.append(np.array([1, 0, 0]))\n",
    "            added = True\n",
    "            break\n",
    "        if not down and not up:\n",
    "            y.append(np.array([0, 1, 0]))\n",
    "            added = True\n",
    "            break\n",
    "    if not added:\n",
    "        y.append(np.array([0, 1, 0]))"
   ],
   "metadata": {
    "collapsed": false,
    "pycharm": {
     "name": "#%%\n"
    }
   }
  },
  {
   "cell_type": "code",
   "execution_count": null,
   "outputs": [],
   "source": [],
   "metadata": {
    "collapsed": false,
    "pycharm": {
     "name": "#%%\n"
    }
   }
  }
 ],
 "metadata": {
  "kernelspec": {
   "display_name": "Python 3",
   "language": "python",
   "name": "python3"
  },
  "language_info": {
   "codemirror_mode": {
    "name": "ipython",
    "version": 2
   },
   "file_extension": ".py",
   "mimetype": "text/x-python",
   "name": "python",
   "nbconvert_exporter": "python",
   "pygments_lexer": "ipython2",
   "version": "2.7.6"
  }
 },
 "nbformat": 4,
 "nbformat_minor": 0
}