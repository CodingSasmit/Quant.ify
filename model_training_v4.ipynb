{
 "cells": [
  {
   "cell_type": "code",
   "execution_count": 1,
   "metadata": {
    "collapsed": true
   },
   "outputs": [],
   "source": [
    "import oandapyV20\n",
    "import oandapyV20.endpoints.instruments as instruments\n",
    "from oandapyV20.contrib.factories import InstrumentsCandlesFactory\n",
    "import pandas as pd\n",
    "import numpy as np\n",
    "import pickle, csv\n",
    "from datetime import datetime, timedelta\n",
    "\n",
    "instrument = \"EUR_USD\"\n",
    "params = {\n",
    "    \"from\": \"2018-01-01T22:00:00Z\",\n",
    "    \"to\": \"2021-03-09T22:00:00Z\",\n",
    "    \"granularity\": \"H4\",\n",
    "    \"count\": 5000,\n",
    "}\n",
    "directory = 'training/v3/_1/'\n",
    "client = oandapyV20.API(access_token='199d815eb1f94c176a86dd3d5cc991a5-5e6ff7a15c524bf65fc0af5ae9a11972')\n",
    "fields = ['time', 'open', 'high', 'low', 'close']\n",
    "def get_data(instrument, params, filename, client):\n",
    "    reset_file(filename)\n",
    "    for i in InstrumentsCandlesFactory(instrument=instrument, params=params):\n",
    "        rv = client.request(i)\n",
    "        data_to_csv(filename, i.response)\n",
    "    return\n",
    "def data_to_csv(file_name, r):\n",
    "    with open(file_name, mode='a+') as file:\n",
    "        writer = csv.DictWriter(file, fieldnames=fields)\n",
    "        for candle in r.get('candles'):\n",
    "            values = {\n",
    "                'time': candle['time'][:19]+'Z',\n",
    "                'open': candle['mid']['o'],\n",
    "                'high': candle['mid']['h'],\n",
    "                'low': candle['mid']['l'],\n",
    "                'close': candle['mid']['c'],\n",
    "            }\n",
    "            writer.writerow(values)\n",
    "    return\n",
    "def reset_file(file_name):\n",
    "    file = open(file_name, 'w')\n",
    "    file.truncate(0)\n",
    "    file.close()\n",
    "    with open(file_name, mode='a+') as file:\n",
    "        writer = csv.DictWriter(file, fieldnames=fields)\n",
    "        writer.writeheader()\n",
    "    return\n",
    "get_data(instrument, params, \"h4_candles.csv\", client)\n",
    "h4 = pd.read_csv('h4_candles.csv')\n",
    "h4[['open', 'high', 'low', 'close']] = h4[['open', 'high', 'low', 'close']].astype(np.float64)\n",
    "\n",
    "x=h4.at[167, 'time']\n",
    "params['from'] = x[:11]+str(int(x[11:13])+2)+x[13:]\n",
    "params['granularity'] = 'M15'\n",
    "get_data(instrument, params, \"m15_candles.csv\", client)\n",
    "m15 = pd.read_csv(\"m15_candles.csv\")\n",
    "m15[['open', 'high', 'low', 'close']] = m15[['open', 'high', 'low', 'close']].astype(np.float64)"
   ]
  },
  {
   "cell_type": "code",
   "execution_count": 2,
   "outputs": [],
   "source": [
    "def trends(df):\n",
    "    df['short_term_trend'] = (df['close']>df['ema-50']).astype(int)\n",
    "    df['mid_term_trend'] = (df['close']>df['ema-100']).astype(int)\n",
    "    df['long_term_trend'] = (df['close']>df['ema-200']).astype(int)\n",
    "def time_of_day_week(df):\n",
    "    df['time_of_day'] = df.loc[:, 'time'].str[11:13]\n",
    "    df['time_of_day'] = df['time_of_day'].astype(int)\n",
    "    Y=df.loc[:, 'time'].str[:4]\n",
    "    M=df.loc[:, 'time'].str[5:7]\n",
    "    D=df.loc[:, 'time'].str[8:10]\n",
    "    df['day_of_week'] = [datetime(year=int(y), month=int(m), day=int(d)).weekday() for y, m, d in zip(Y, M, D)]\n",
    "def cci(df, period=20):\n",
    "    df['TP'] = (df['high']+df['low']+df['close'])/3\n",
    "    df['TP_SMA']=0.0\n",
    "    df['CCI']=0.0\n",
    "    for i in range(period, len(df)):\n",
    "        df.at[i, 'TP_SMA'] = np.mean(df.loc[i-period:i, 'TP'])\n",
    "        mean_deviation = np.mean(np.abs(df.at[i, 'TP_SMA'] - df.loc[i-period:i, 'TP']))\n",
    "        df.at[i, 'CCI'] = (df.at[i, 'TP'] - df.at[i, 'TP_SMA'])/(1.5 * mean_deviation)\n",
    "def stochastic(df, period=14): # same as %K\n",
    "    df['%K'] = 0.0\n",
    "    for i in range(period, len(df)):\n",
    "        high = np.max(df.loc[i-period:i, 'high'])\n",
    "        low = np.min(df.loc[i-period:i, 'low'])\n",
    "        close = df.at[i, 'close']\n",
    "        df.at[i, '%K'] = (close-low)/(high-low)\n",
    "def rsi(df, period=14):\n",
    "    df['RSI'], df['mean_gain'], df['mean_loss'] = 0.0, 0.0, 0.0\n",
    "    gain, loss = 0, 0\n",
    "    for j in range(0, period):\n",
    "        change = df.at[j+1, 'close']/df.at[j, 'close']\n",
    "        if change>=1:\n",
    "            gain += change-1\n",
    "        else:\n",
    "            loss += 1-change\n",
    "    df.at[period, 'mean_gain'] = gain/period\n",
    "    df.at[period, 'mean_loss'] = loss/period\n",
    "    RS = gain/loss\n",
    "    df.at[period, 'RSI'] = 1 - 1/(1+RS)\n",
    "    for i in range(period+1, len(df)):\n",
    "        gain, loss = 0, 0\n",
    "        change = df.at[i, 'close']/df.at[i-1, 'close']\n",
    "        if change>=1:\n",
    "            gain += change-1\n",
    "        else:\n",
    "            loss += 1-change\n",
    "        df.at[i, 'mean_gain'] = (df.at[i-1, 'mean_gain']*13 + gain)/period\n",
    "        df.at[i, 'mean_loss'] = (df.at[i-1, 'mean_loss']*13 + loss)/period\n",
    "        RS = df.at[i, 'mean_gain']/df.at[i, 'mean_loss']\n",
    "        df.at[i, 'RSI'] = 1 - 1/(1+RS)\n",
    "def ema(df, period):\n",
    "    s = 'ema-{}'.format(period)\n",
    "    df[s]=0.0\n",
    "    df.at[period, s] = np.mean(df.loc[:period, 'close'])\n",
    "    multiplier = 2/(1+period)\n",
    "    for i in range(period+1, len(df)):\n",
    "        df.at[i, s] = df.at[i, 'close']*multiplier + df.at[i-1, s]*(1-multiplier)\n",
    "def atr(df, period=14):\n",
    "    df['ATR']=0.0\n",
    "    df['TR']=0.0\n",
    "    for i in range(1, len(df)):\n",
    "        h, l, c = df.at[i, 'high'], df.at[i, 'low'], df.at[i-1, 'close']\n",
    "        df.at[i, 'TR'] = np.max([h-l, abs(h-c), abs(l-c)])\n",
    "    for i in range(period, len(df)):\n",
    "        df.at[i, 'ATR'] = np.mean(df.loc[i-period+1:i+1, 'TR'])\n",
    "def add_indicators(df):\n",
    "    cci(df)\n",
    "    stochastic(df)\n",
    "    rsi(df)\n",
    "    for i in [12, 26, 50, 100, 200]:\n",
    "        ema(df, i)\n",
    "    df['macd'] = df['ema-12']-df['ema-26']\n",
    "    s = 'signal'\n",
    "    df[s]=0.0\n",
    "    multiplier = 2/(1+9)\n",
    "    df.at[40, s] = np.mean(df.loc[31:40, 'ema-12']-df.loc[31:40, 'ema-26'])\n",
    "    for i in range(41, len(df)):\n",
    "        df.at[i, s] = (df.at[i, 'ema-12']-df.at[i, 'ema-26'])*multiplier + df.at[i-1, s]*(1-multiplier)\n",
    "    atr(df)\n",
    "    df.drop(['TR', 'mean_gain', 'mean_loss'], axis=1, inplace=True)\n",
    "    time_of_day_week(df)\n",
    "    trends(df)"
   ],
   "metadata": {
    "collapsed": false,
    "pycharm": {
     "name": "#%%\n"
    }
   }
  },
  {
   "cell_type": "code",
   "execution_count": 3,
   "outputs": [],
   "source": [
    "add_indicators(m15)\n",
    "m15=m15[200:]\n",
    "m15 = np.array(m15)\n",
    "m15[:, 1:] = m15[:, 1:].astype(np.float64)\n",
    "m15[:, [15, 16, 17]] *= 1000\n",
    "m15[:, [1, 2, 3, 4, 5, 6, 10, 11, 12, 13, 14]] = (m15[:, [1, 2, 3, 4, 5, 6, 10, 11, 12, 13, 14]]-1)*10\n",
    "\n",
    "h4 = np.array(h4)\n",
    "h4[:, 1:] = h4[:, 1:].astype(np.float64)"
   ],
   "metadata": {
    "collapsed": false,
    "pycharm": {
     "name": "#%%\n"
    }
   }
  },
  {
   "cell_type": "code",
   "execution_count": 4,
   "outputs": [],
   "source": [
    "from collections import deque\n",
    "x1, x2, x3, y = deque(), deque(), deque(), deque()\n",
    "j=180\n",
    "stoploss=10e-3\n",
    "spread=1.5e-3\n",
    "for i in range(len(m15)-288-80):\n",
    "    if m15[i, 0]==h4[j+1, 0]:\n",
    "        j+=1\n",
    "    x1.append(h4[j-180:j, 1:5])\n",
    "    x2.append(m15[i:i+288, 1:5])\n",
    "    x3.append(m15[i+287, 5:])\n",
    "\n",
    "    leny = len(y)\n",
    "    cp = m15[i+287, 4]\n",
    "    k=30e-3\n",
    "    short, long = False, False\n",
    "    for l in range(288, 288+80):\n",
    "        diff_low = cp-m15[i+l, 3]\n",
    "        diff_high = cp-m15[i+l, 2]\n",
    "        if not short and diff_low>stoploss-spread:\n",
    "           short=True\n",
    "        elif not long and diff_high<-stoploss+spread:\n",
    "            long=True\n",
    "        elif long and short:\n",
    "            y.append([0, 1, 0])\n",
    "            break\n",
    "        elif long and diff_high<-k-spread:\n",
    "            y.append([0, 0, 1])\n",
    "            break\n",
    "        elif short and diff_low>k+spread:\n",
    "            y.append([1, 0, 0])\n",
    "            break\n",
    "    if len(y)!=leny+1:\n",
    "        y.append([0, 1, 0])\n",
    "\n",
    "\n",
    "x1=np.array(x1).astype(np.float64)\n",
    "x2=np.array(x2).astype(np.float64)\n",
    "x3=np.array(x3).astype(np.float64)\n",
    "y=np.array(y).astype(np.float64)"
   ],
   "metadata": {
    "collapsed": false,
    "pycharm": {
     "name": "#%%\n"
    }
   }
  },
  {
   "cell_type": "code",
   "execution_count": 5,
   "outputs": [
    {
     "data": {
      "text/plain": "array([14404., 47753., 13757.])"
     },
     "execution_count": 5,
     "metadata": {},
     "output_type": "execute_result"
    }
   ],
   "source": [
    "np.sum(y, axis=0)"
   ],
   "metadata": {
    "collapsed": false,
    "pycharm": {
     "name": "#%%\n"
    }
   }
  },
  {
   "cell_type": "code",
   "execution_count": 6,
   "outputs": [],
   "source": [
    "from sklearn.model_selection import train_test_split\n",
    "x1t, x1T, x2t, x2T, x3t, x3T, yt, yT = train_test_split(x1, x2, x3, y, test_size=0.3, shuffle=False)"
   ],
   "metadata": {
    "collapsed": false,
    "pycharm": {
     "name": "#%%\n"
    }
   }
  },
  {
   "cell_type": "code",
   "execution_count": 7,
   "outputs": [],
   "source": [
    "t = np.sum(yt, axis=0)\n",
    "ts = np.sum(t)\n",
    "sample_weights = np.ones(len(yt)) * t[1]*2/ts\n",
    "sample_weights[np.logical_or(yt[:, 0]>0, yt[:, 2]>0)] = (t[0]+t[2])*2/ts"
   ],
   "metadata": {
    "collapsed": false,
    "pycharm": {
     "name": "#%%\n"
    }
   }
  },
  {
   "cell_type": "code",
   "execution_count": 8,
   "outputs": [],
   "source": [
    "import tensorflow as tf\n",
    "import keras\n",
    "from keras.models import Model\n",
    "from keras.layers import Dense, Dropout, LSTM, Input, Activation, concatenate\n",
    "from keras import optimizers\n",
    "from matplotlib import pyplot as plt\n",
    "from IPython.display import clear_output\n",
    "\n",
    "def model_init():\n",
    "    input1 = Input(shape=(180, 4))\n",
    "    x = LSTM(180)(input1)\n",
    "    x = Dropout(0.2)(x)\n",
    "    branch1 = Model(inputs=input1, outputs=x)\n",
    "\n",
    "    input2 = Input(shape=(288, 4))\n",
    "    y = LSTM(288)(input2)\n",
    "    y = Dropout(0.2)(y)\n",
    "    branch2 = Model(inputs=input2, outputs=y)\n",
    "\n",
    "    input3 = Input(shape=18)\n",
    "    a = Dense(128, activation=keras.layers.LeakyReLU(alpha=0.1))(input3)\n",
    "    a = Dropout(0.2)(a)\n",
    "    features_branch = Model(inputs=input3, outputs=a)\n",
    "\n",
    "    combined = concatenate([branch1.output, branch2.output, features_branch.output])#, features_branch.output])\n",
    "    # z = Dense(256, activation=tf.keras.layers.LeakyReLU(alpha=0.1))(combined)\n",
    "    # z = Dropout(0.2)(z)\n",
    "    # z = Dense(3, activation=\"softmax\", name='10_pip')(z)\n",
    "    #\n",
    "    # b = Dense(256, activation=tf.keras.layers.LeakyReLU(alpha=0.1))(combined)\n",
    "    # b = Dropout(0.2)(b)\n",
    "    # b = Dense(3, activation=\"softmax\", name='20_pip')(b)\n",
    "\n",
    "    c = Dense(256, activation=keras.layers.LeakyReLU(alpha=0.1))(combined)\n",
    "    c = Dropout(0.2)(c)\n",
    "    c = Dense(3, activation=\"softmax\", name='30_pip')(c)\n",
    "\n",
    "    model = Model(inputs=[branch1.input, branch2.input, features_branch.input], outputs=c)#, outputs=[z, b, c])\n",
    "    adam = optimizers.Adam(learning_rate=0.0005)\n",
    "    model.compile(optimizer=adam, loss='categorical_crossentropy', metrics=['categorical_accuracy'], run_eagerly=False)\n",
    "    return model\n",
    "\n",
    "class PlotLosses(keras.callbacks.Callback):\n",
    "    def on_train_begin(self, logs={}):\n",
    "        self.i = 1\n",
    "        self.x = []\n",
    "        self.losses = []\n",
    "        self.val_losses = []\n",
    "\n",
    "        self.fig = plt.figure()\n",
    "\n",
    "        self.logs = []\n",
    "\n",
    "    def on_epoch_end(self, epoch, logs={}):\n",
    "\n",
    "        self.logs.append(logs)\n",
    "        self.x.append(self.i)\n",
    "        self.losses.append(logs.get('loss'))\n",
    "        self.val_losses.append(logs.get('val_loss'))\n",
    "        self.i += 1\n",
    "\n",
    "        clear_output(wait=True)\n",
    "        plt.plot(self.x, self.losses, label=\"loss\")\n",
    "        plt.plot(self.x, self.val_losses, label=\"val_loss\")\n",
    "        plt.legend()\n",
    "        plt.show()\n",
    "\n",
    "plot_losses = PlotLosses()"
   ],
   "metadata": {
    "collapsed": false,
    "pycharm": {
     "name": "#%%\n"
    }
   }
  },
  {
   "cell_type": "code",
   "execution_count": 9,
   "outputs": [],
   "source": [
    "path = 'models/_9_added_time_and_trends/m'\n",
    "from keras.callbacks import ModelCheckpoint\n",
    "model=model_init()\n",
    "model.call = tf.function(model.call, experimental_relax_shapes=True)\n",
    "\n",
    "checkpoint = ModelCheckpoint(filepath=path+'.{epoch:02d}',\n",
    "                 monitor='val_loss',\n",
    "                 verbose=1,\n",
    "                 save_best_only=False,\n",
    "                save_weights_only=True)"
   ],
   "metadata": {
    "collapsed": false,
    "pycharm": {
     "name": "#%%\n"
    }
   }
  },
  {
   "cell_type": "code",
   "execution_count": null,
   "outputs": [],
   "source": [
    "model.fit(x=[x1t, x2t, x3t], y=yt, batch_size=1000, epochs=100, validation_split=0.1,\n",
    "          shuffle=True, callbacks=[plot_losses, checkpoint],\n",
    "          sample_weight=sample_weights,\n",
    "          initial_epoch=50)"
   ],
   "metadata": {
    "collapsed": false,
    "pycharm": {
     "name": "#%%\n",
     "is_executing": true
    }
   }
  },
  {
   "cell_type": "code",
   "execution_count": 58,
   "outputs": [
    {
     "data": {
      "text/plain": "<tensorflow.python.training.tracking.util.CheckpointLoadStatus at 0x7ffbcc9319b0>"
     },
     "execution_count": 58,
     "metadata": {},
     "output_type": "execute_result"
    }
   ],
   "source": [
    "model.load_weights(path+'.46') # 50, 46, 38, 40"
   ],
   "metadata": {
    "collapsed": false,
    "pycharm": {
     "name": "#%%\n"
    }
   }
  },
  {
   "cell_type": "code",
   "execution_count": null,
   "outputs": [],
   "source": [
    "pt = model([x1t, x2t, x3t], training=False)\n",
    "pT = model([x1T, x2T, x3T], training=False)"
   ],
   "metadata": {
    "collapsed": false,
    "pycharm": {
     "name": "#%%\n",
     "is_executing": true
    }
   }
  },
  {
   "cell_type": "code",
   "execution_count": 70,
   "outputs": [
    {
     "name": "stdout",
     "output_type": "stream",
     "text": [
      "-550.0 30.0 -10.0 551 0\n",
      "124 427 0.2250453720508167\n",
      "9.290000000000905\n"
     ]
    }
   ],
   "source": [
    "net_profit_pips, i = 0, 0\n",
    "winning, losing = [], []\n",
    "candles, pred = x2T, pT\n",
    "neutral=0\n",
    "\n",
    "horizon=500\n",
    "spread=1.5e-3\n",
    "takeprofit=30e-3\n",
    "stop = 10e-3\n",
    "cutoff=0.2\n",
    "\n",
    "highest_preloss=[]\n",
    "# 0.35 for 5 pip, 0.25 for 3 pip\n",
    "while i<len(candles)-horizon:\n",
    "    stoploss=stop\n",
    "    cp = candles[i, -1, 3]\n",
    "    ep = candles[i+horizon, -1, 3]\n",
    "    diff=0\n",
    "    closed=False\n",
    "    if pred[i, 0]>cutoff or pred[i, 2]>cutoff:\n",
    "        long = pred[i, 2]>cutoff\n",
    "        if long:\n",
    "            cp+=spread/2\n",
    "        else:\n",
    "            cp-=spread/2\n",
    "        for l in range(1, 1+horizon):\n",
    "            diff_low = cp-candles[i+l, -1, 2]\n",
    "            diff_high = cp-candles[i+l, -1, 1]\n",
    "            if long and diff_low>stoploss-spread/2:\n",
    "                diff = -stoploss\n",
    "                if stoploss>0:\n",
    "                    highest_preloss.append((np.max(candles[i+1:i+l+1, -1, 1])-cp)*1e3)\n",
    "                i+=l\n",
    "                closed=True\n",
    "                break\n",
    "            elif not long and diff_high<-stoploss+spread/2:\n",
    "                diff = -stoploss\n",
    "                if stoploss>0:\n",
    "                    highest_preloss.append((cp-np.min(candles[i+1:i+l+1, -1, 2]))*1e3)\n",
    "                i+=l\n",
    "                closed=True\n",
    "                break\n",
    "            # elif long and diff_high<-stoploss-spread/2:\n",
    "            #     stoploss=0\n",
    "            # elif not long and diff_low>stoploss+spread/2:\n",
    "            #     stoploss=0\n",
    "            if long and diff_high<-takeprofit-spread/2:\n",
    "                diff = takeprofit\n",
    "                i+=l\n",
    "                closed=True\n",
    "                break\n",
    "            elif not long and diff_low>takeprofit+spread/2:\n",
    "                diff = takeprofit\n",
    "                i+=l\n",
    "                closed=True\n",
    "                break\n",
    "        if not closed:\n",
    "            diff = ep-cp if long else cp-ep\n",
    "            i+=horizon\n",
    "        diff*=1e3\n",
    "        net_profit_pips+=diff\n",
    "        if diff>0:\n",
    "            winning.append(diff)\n",
    "        elif diff==0:\n",
    "            neutral+=1\n",
    "        else:\n",
    "            losing.append(diff)\n",
    "    i+=1\n",
    "\n",
    "s = len(winning)+len(losing)\n",
    "print(net_profit_pips, np.mean(winning), np.mean(losing), s, neutral)\n",
    "print(len(winning), len(losing), len(winning)/(len(winning)+len(losing)))\n",
    "print(np.quantile(highest_preloss, 0.7))"
   ],
   "metadata": {
    "collapsed": false,
    "pycharm": {
     "name": "#%%\n"
    }
   }
  },
  {
   "cell_type": "code",
   "execution_count": null,
   "outputs": [],
   "source": [],
   "metadata": {
    "collapsed": false,
    "pycharm": {
     "name": "#%%\n"
    }
   }
  }
 ],
 "metadata": {
  "kernelspec": {
   "name": "pycharm-74f8d5ee",
   "language": "python",
   "display_name": "PyCharm (week1)"
  },
  "language_info": {
   "codemirror_mode": {
    "name": "ipython",
    "version": 2
   },
   "file_extension": ".py",
   "mimetype": "text/x-python",
   "name": "python",
   "nbconvert_exporter": "python",
   "pygments_lexer": "ipython2",
   "version": "2.7.6"
  }
 },
 "nbformat": 4,
 "nbformat_minor": 0
}